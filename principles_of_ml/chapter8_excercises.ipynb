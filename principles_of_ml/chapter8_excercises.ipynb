{
 "cells": [
  {
   "cell_type": "code",
   "execution_count": null,
   "id": "41d5b6dc",
   "metadata": {},
   "outputs": [],
   "source": [
    "from sklearn.datasets import fetch_openml\n",
    "from sklearn.neighbors import KNeighborsClassifier\n",
    "\n",
    "\n",
    "from sklearn.feature_selection import SelectFromModel\n",
    "from sklearn.svm import SVR\n",
    "from scipy.stats import loguniform, expon\n",
    "from sklearn.pipeline import Pipeline\n",
    "from sklearn.model_selection import GridSearchCV, RandomizedSearchCV\n",
    "from scipy.stats import randint\n",
    "from sklearn.pipeline import make_pipeline\n",
    "from sklearn.model_selection import train_test_split\n",
    "\n",
    "from sklearn.preprocessing import StandardScaler\n",
    "from sklearn.preprocessing import OneHotEncoder\n",
    "from sklearn.impute import SimpleImputer\n",
    "from sklearn.compose import ColumnTransformer\n",
    "from sklearn.pipeline import Pipeline\n",
    "from sklearn.ensemble import RandomForestRegressor\n",
    "from sklearn.model_selection import cross_val_score\n",
    "from sklearn.tree import DecisionTreeClassifier\n",
    "\n",
    "from sklearn.datasets import fetch_olivetti_faces\n",
    "\n",
    "import pandas as pd\n",
    "\n",
    "import matplotlib.pyplot as plt\n",
    "\n",
    "from scipy.ndimage import shift\n",
    "import utils\n",
    "\n",
    "import numpy as np"
   ]
  },
  {
   "cell_type": "code",
   "execution_count": null,
   "id": "4b81e534",
   "metadata": {},
   "outputs": [],
   "source": [
    "faces_dataset = fetch_olivetti_faces()"
   ]
  },
  {
   "cell_type": "code",
   "execution_count": null,
   "id": "4fefd999",
   "metadata": {},
   "outputs": [],
   "source": [
    "OLIVETI_FACES_DATASET_NAME = \"olivetti_faces\"\n",
    "try:\n",
    "    print(f\"Loading dataset {OLIVETI_FACES_DATASET_NAME}\")\n",
    "    \n",
    "    minst = utils.load_npz(OLIVETI_FACES_DATASET_NAME)\n",
    "    X = minst[\"arr_0\"]\n",
    "    y = minst[\"arr_1\"]\n",
    "except FileNotFoundError:\n",
    "    print(f\"Dataset {OLIVETI_FACES_DATASET_NAME} not found. Fetching from openml\")\n",
    "    minst = fetch_olivetti_faces()\n",
    "    X = minst.data\n",
    "    y = minst.target\n",
    "    utils.dump_npz(OLIVETI_FACES_DATASET_NAME, X, y)\n"
   ]
  }
 ],
 "metadata": {
  "kernelspec": {
   "display_name": "exercises",
   "language": "python",
   "name": "python3"
  },
  "language_info": {
   "name": "python",
   "version": "3.12.11"
  }
 },
 "nbformat": 4,
 "nbformat_minor": 5
}
