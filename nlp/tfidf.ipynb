{
 "cells": [
  {
   "cell_type": "code",
   "execution_count": null,
   "id": "822bfbb6",
   "metadata": {},
   "outputs": [],
   "source": [
    "from sklearn.feature_extraction.text import TfidfVectorizer\n",
    "import numpy as np\n",
    "\n",
    "corpus = [\n",
    "    \"nlp is fun\",\n",
    "    \"deep learning makes nlp powerful\",\n",
    "    \"nlp enables powerful applications\",\n",
    "]\n",
    "tfidf = TfidfVectorizer(\n",
    "    lowercase=True,\n",
    "    token_pattern=r\"\\b[a-zA -Z]+\\b\",\n",
    "    norm=\"l2\",\n",
    "    use_idf=True,\n",
    "    smooth_idf=True,\n",
    "    sublinear_tf=False,\n",
    ")\n",
    "X = tfidf.fit_transform(corpus)\n",
    "vocab = tfidf.get_feature_names_out()\n",
    "dense = np.round(X.toarray(), 3)\n",
    "print(\"Vocabulary:\", vocab)\n",
    "print(\"TF -IDF Matrix :\\n\", dense)"
   ]
  }
 ],
 "metadata": {
  "language_info": {
   "name": "python"
  }
 },
 "nbformat": 4,
 "nbformat_minor": 5
}
